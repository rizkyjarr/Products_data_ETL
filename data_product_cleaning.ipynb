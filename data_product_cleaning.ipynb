{
 "cells": [
  {
   "cell_type": "markdown",
   "metadata": {},
   "source": [
    "# **Data Transform and Cleaning Process**"
   ]
  },
  {
   "cell_type": "markdown",
   "metadata": {},
   "source": [
    "**Importing Libraries:**"
   ]
  },
  {
   "cell_type": "code",
   "execution_count": 1,
   "metadata": {},
   "outputs": [],
   "source": [
    "import pandas as pd\n",
    "import os\n",
    "from etl_helper import extract_multi_csvs"
   ]
  },
  {
   "cell_type": "markdown",
   "metadata": {},
   "source": [
    "**Merging all datasets into dataframe:**"
   ]
  },
  {
   "cell_type": "code",
   "execution_count": 2,
   "metadata": {},
   "outputs": [],
   "source": [
    "# Creating variables for merging the datasets\n",
    "directory_path = (r\"C:\\Users\\user\\OneDrive\\RFA _Personal Files\\02. COURSE\\Purwadhika_Data Engineering\\Purwadhika_VS\\01_Personal_Projects\\01_ETL01\\data_original\")\n",
    "files_list = os.listdir(directory_path)\n",
    "\n",
    "# Merging the datasets into one merged dataframe. Function extract_multi_csvs can refer to etl_helper.py file\n",
    "df = extract_multi_csvs(directory_path,files_list)"
   ]
  },
  {
   "cell_type": "markdown",
   "metadata": {},
   "source": [
    "**Checking the structure and details of the dataframe: columns, row data, datatypes, null values, etc):**\n",
    "\n",
    "Based on the structure below, there are 5 things to do in transforming and cleaning the dataset:\n",
    "1. ratings --> ensure it's a float dtype and have no string character inside X\n",
    "2. no_of_ratings --> ensure it's a float dtype and have no string character inside\n",
    "3. discount_price --> ensure it's a integer dtype have no string character inside\n",
    "4. actual_price --> ensure it's a integer dtype have no string character inside\n",
    "5. checking and handling null values within the dataframe\n",
    "6. check for duplicated data"
   ]
  },
  {
   "cell_type": "code",
   "execution_count": 3,
   "metadata": {},
   "outputs": [
    {
     "name": "stdout",
     "output_type": "stream",
     "text": [
      "<class 'pandas.core.frame.DataFrame'>\n",
      "RangeIndex: 1103170 entries, 0 to 1103169\n",
      "Data columns (total 10 columns):\n",
      " #   Column          Non-Null Count    Dtype  \n",
      "---  ------          --------------    -----  \n",
      " 0   name            1103170 non-null  object \n",
      " 1   main_category   1103170 non-null  object \n",
      " 2   sub_category    1103170 non-null  object \n",
      " 3   image           1103170 non-null  object \n",
      " 4   link            1103170 non-null  object \n",
      " 5   ratings         751582 non-null   object \n",
      " 6   no_of_ratings   751582 non-null   object \n",
      " 7   discount_price  980844 non-null   object \n",
      " 8   actual_price    1067544 non-null  object \n",
      " 9   Unnamed: 0      551585 non-null   float64\n",
      "dtypes: float64(1), object(9)\n",
      "memory usage: 84.2+ MB\n"
     ]
    }
   ],
   "source": [
    "df.info()"
   ]
  },
  {
   "cell_type": "markdown",
   "metadata": {},
   "source": [
    "**Backup the original dataframe**:"
   ]
  },
  {
   "cell_type": "code",
   "execution_count": 4,
   "metadata": {},
   "outputs": [
    {
     "data": {
      "text/html": [
       "<div>\n",
       "<style scoped>\n",
       "    .dataframe tbody tr th:only-of-type {\n",
       "        vertical-align: middle;\n",
       "    }\n",
       "\n",
       "    .dataframe tbody tr th {\n",
       "        vertical-align: top;\n",
       "    }\n",
       "\n",
       "    .dataframe thead th {\n",
       "        text-align: right;\n",
       "    }\n",
       "</style>\n",
       "<table border=\"1\" class=\"dataframe\">\n",
       "  <thead>\n",
       "    <tr style=\"text-align: right;\">\n",
       "      <th></th>\n",
       "      <th>name</th>\n",
       "      <th>main_category</th>\n",
       "      <th>sub_category</th>\n",
       "      <th>image</th>\n",
       "      <th>link</th>\n",
       "      <th>ratings</th>\n",
       "      <th>no_of_ratings</th>\n",
       "      <th>discount_price</th>\n",
       "      <th>actual_price</th>\n",
       "      <th>Unnamed: 0</th>\n",
       "    </tr>\n",
       "  </thead>\n",
       "  <tbody>\n",
       "    <tr>\n",
       "      <th>0</th>\n",
       "      <td>Lloyd 1.5 Ton 3 Star Inverter Split Ac (5 In 1...</td>\n",
       "      <td>appliances</td>\n",
       "      <td>Air Conditioners</td>\n",
       "      <td>https://m.media-amazon.com/images/I/31UISB90sY...</td>\n",
       "      <td>https://www.amazon.in/Lloyd-Inverter-Convertib...</td>\n",
       "      <td>4.2</td>\n",
       "      <td>2,255</td>\n",
       "      <td>₹32,999</td>\n",
       "      <td>₹58,990</td>\n",
       "      <td>NaN</td>\n",
       "    </tr>\n",
       "    <tr>\n",
       "      <th>1</th>\n",
       "      <td>LG 1.5 Ton 5 Star AI DUAL Inverter Split AC (C...</td>\n",
       "      <td>appliances</td>\n",
       "      <td>Air Conditioners</td>\n",
       "      <td>https://m.media-amazon.com/images/I/51JFb7FctD...</td>\n",
       "      <td>https://www.amazon.in/LG-Convertible-Anti-Viru...</td>\n",
       "      <td>4.2</td>\n",
       "      <td>2,948</td>\n",
       "      <td>₹46,490</td>\n",
       "      <td>₹75,990</td>\n",
       "      <td>NaN</td>\n",
       "    </tr>\n",
       "    <tr>\n",
       "      <th>2</th>\n",
       "      <td>LG 1 Ton 4 Star Ai Dual Inverter Split Ac (Cop...</td>\n",
       "      <td>appliances</td>\n",
       "      <td>Air Conditioners</td>\n",
       "      <td>https://m.media-amazon.com/images/I/51JFb7FctD...</td>\n",
       "      <td>https://www.amazon.in/LG-Inverter-Convertible-...</td>\n",
       "      <td>4.2</td>\n",
       "      <td>1,206</td>\n",
       "      <td>₹34,490</td>\n",
       "      <td>₹61,990</td>\n",
       "      <td>NaN</td>\n",
       "    </tr>\n",
       "    <tr>\n",
       "      <th>3</th>\n",
       "      <td>LG 1.5 Ton 3 Star AI DUAL Inverter Split AC (C...</td>\n",
       "      <td>appliances</td>\n",
       "      <td>Air Conditioners</td>\n",
       "      <td>https://m.media-amazon.com/images/I/51JFb7FctD...</td>\n",
       "      <td>https://www.amazon.in/LG-Convertible-Anti-Viru...</td>\n",
       "      <td>4.0</td>\n",
       "      <td>69</td>\n",
       "      <td>₹37,990</td>\n",
       "      <td>₹68,990</td>\n",
       "      <td>NaN</td>\n",
       "    </tr>\n",
       "    <tr>\n",
       "      <th>4</th>\n",
       "      <td>Carrier 1.5 Ton 3 Star Inverter Split AC (Copp...</td>\n",
       "      <td>appliances</td>\n",
       "      <td>Air Conditioners</td>\n",
       "      <td>https://m.media-amazon.com/images/I/41lrtqXPiW...</td>\n",
       "      <td>https://www.amazon.in/Carrier-Inverter-Split-C...</td>\n",
       "      <td>4.1</td>\n",
       "      <td>630</td>\n",
       "      <td>₹34,490</td>\n",
       "      <td>₹67,790</td>\n",
       "      <td>NaN</td>\n",
       "    </tr>\n",
       "  </tbody>\n",
       "</table>\n",
       "</div>"
      ],
      "text/plain": [
       "                                                name main_category  \\\n",
       "0  Lloyd 1.5 Ton 3 Star Inverter Split Ac (5 In 1...    appliances   \n",
       "1  LG 1.5 Ton 5 Star AI DUAL Inverter Split AC (C...    appliances   \n",
       "2  LG 1 Ton 4 Star Ai Dual Inverter Split Ac (Cop...    appliances   \n",
       "3  LG 1.5 Ton 3 Star AI DUAL Inverter Split AC (C...    appliances   \n",
       "4  Carrier 1.5 Ton 3 Star Inverter Split AC (Copp...    appliances   \n",
       "\n",
       "       sub_category                                              image  \\\n",
       "0  Air Conditioners  https://m.media-amazon.com/images/I/31UISB90sY...   \n",
       "1  Air Conditioners  https://m.media-amazon.com/images/I/51JFb7FctD...   \n",
       "2  Air Conditioners  https://m.media-amazon.com/images/I/51JFb7FctD...   \n",
       "3  Air Conditioners  https://m.media-amazon.com/images/I/51JFb7FctD...   \n",
       "4  Air Conditioners  https://m.media-amazon.com/images/I/41lrtqXPiW...   \n",
       "\n",
       "                                                link ratings no_of_ratings  \\\n",
       "0  https://www.amazon.in/Lloyd-Inverter-Convertib...     4.2         2,255   \n",
       "1  https://www.amazon.in/LG-Convertible-Anti-Viru...     4.2         2,948   \n",
       "2  https://www.amazon.in/LG-Inverter-Convertible-...     4.2         1,206   \n",
       "3  https://www.amazon.in/LG-Convertible-Anti-Viru...     4.0            69   \n",
       "4  https://www.amazon.in/Carrier-Inverter-Split-C...     4.1           630   \n",
       "\n",
       "  discount_price actual_price  Unnamed: 0  \n",
       "0        ₹32,999      ₹58,990         NaN  \n",
       "1        ₹46,490      ₹75,990         NaN  \n",
       "2        ₹34,490      ₹61,990         NaN  \n",
       "3        ₹37,990      ₹68,990         NaN  \n",
       "4        ₹34,490      ₹67,790         NaN  "
      ]
     },
     "execution_count": 4,
     "metadata": {},
     "output_type": "execute_result"
    }
   ],
   "source": [
    "#backup the original dataframe \n",
    "df1 = df.copy()\n",
    "df1.head(5)"
   ]
  },
  {
   "cell_type": "markdown",
   "metadata": {},
   "source": [
    "**Handling 'ratings' column:**\n",
    "\n",
    "The \"ratings\" column should contain only numerical data. Therefore, it's important to ensure that no non-numeric characters appear in this column."
   ]
  },
  {
   "cell_type": "code",
   "execution_count": 5,
   "metadata": {},
   "outputs": [],
   "source": [
    "#ensure rating column is all numerical and non-numerical value. The errors=coerce will force the non-numerical value to change into NaN or null values\n",
    "df1['ratings'] = pd.to_numeric(df1['ratings'], errors='coerce')\n",
    "\n",
    "#convert null values to 0\n",
    "df1['ratings'] = df1['ratings'].fillna(0)"
   ]
  },
  {
   "cell_type": "markdown",
   "metadata": {},
   "source": [
    "**Handling 'no_of_ratings' column:**\n",
    "\n",
    "This specific column is also should be treated the same way as 'ratings column', but since it represent number of ratings, it should be converted into integer."
   ]
  },
  {
   "cell_type": "code",
   "execution_count": 6,
   "metadata": {},
   "outputs": [],
   "source": [
    "#same treat as 'ratings' column\n",
    "df1['no_of_ratings'] = pd.to_numeric(df1['no_of_ratings'].str.replace(\",\", \"\"),errors='coerce')\n",
    "df1['no_of_ratings'] = df1['no_of_ratings'].fillna(0)\n",
    "\n",
    "#convert datatype from float to Integer\n",
    "df1['no_of_ratings'] = df1['no_of_ratings'].astype('Int64')\n"
   ]
  },
  {
   "cell_type": "markdown",
   "metadata": {},
   "source": [
    "**Handling 'discount_price' and 'actual_price' columns:**\n",
    "\n",
    "We've noticed that the 'discount_price' and 'actual_price' columns contain currency symbols. These columns should be converted to the float data type, removing any non-numeric characters."
   ]
  },
  {
   "cell_type": "code",
   "execution_count": 7,
   "metadata": {},
   "outputs": [],
   "source": [
    "#remove any non-numerical characters and fill NaN/null with 0\n",
    "df1['discount_price'] = pd.to_numeric(df1['discount_price'].str.replace(\"₹\",\"\").str.replace(\",\",\"\"), errors='coerce')\n",
    "df1['discount_price'] = df1['discount_price'].fillna(0)\n",
    "\n",
    "#same treat as 'discount_price'\n",
    "df1['actual_price'] = pd.to_numeric(df1['actual_price'].str.replace(\"₹\",\"\").str.replace(\",\",\"\"), errors='coerce')\n",
    "df1['actual_price'] = df1['actual_price'].fillna(0)\n"
   ]
  },
  {
   "cell_type": "markdown",
   "metadata": {},
   "source": [
    "**Handling unnecessary and missing values:**\n",
    "\n",
    "We have converted the data to the desired types. Now, it’s time to proceed with data validation by addressing any missing values and removing unnecessary columns.\n",
    "1. Handling the 'actual_price' column: The decision to remove this column is based on logic—it's unreasonable for a product listed on an online marketplace to lack an actual_price. Thus, it doesn't make sense to keep it.\n",
    "2. Removing the unnecessary unnamed:0 column: This column provides no additional value for analysis and can be safely discarded."
   ]
  },
  {
   "cell_type": "code",
   "execution_count": 8,
   "metadata": {},
   "outputs": [],
   "source": [
    "# Keep only the data that does not only contain 0 in 'actual_price' column\n",
    "df1 = df1[df1['actual_price'] != 0]\n"
   ]
  },
  {
   "cell_type": "code",
   "execution_count": 9,
   "metadata": {},
   "outputs": [],
   "source": [
    "#remove the unecessary column that does not add value for analysis\n",
    "df1 = df1.drop('Unnamed: 0', axis=1)"
   ]
  },
  {
   "cell_type": "markdown",
   "metadata": {},
   "source": [
    "**Dataframe checkpoint**:\n",
    "Further checking the dataframe"
   ]
  },
  {
   "cell_type": "code",
   "execution_count": 10,
   "metadata": {},
   "outputs": [
    {
     "name": "stdout",
     "output_type": "stream",
     "text": [
      "<class 'pandas.core.frame.DataFrame'>\n",
      "Index: 1067538 entries, 0 to 1103169\n",
      "Data columns (total 9 columns):\n",
      " #   Column          Non-Null Count    Dtype  \n",
      "---  ------          --------------    -----  \n",
      " 0   name            1067538 non-null  object \n",
      " 1   main_category   1067538 non-null  object \n",
      " 2   sub_category    1067538 non-null  object \n",
      " 3   image           1067538 non-null  object \n",
      " 4   link            1067538 non-null  object \n",
      " 5   ratings         1067538 non-null  float64\n",
      " 6   no_of_ratings   1067538 non-null  Int64  \n",
      " 7   discount_price  1067538 non-null  float64\n",
      " 8   actual_price    1067538 non-null  float64\n",
      "dtypes: Int64(1), float64(3), object(5)\n",
      "memory usage: 82.5+ MB\n"
     ]
    }
   ],
   "source": [
    "df1.info()"
   ]
  },
  {
   "cell_type": "markdown",
   "metadata": {},
   "source": [
    "**Create new column named 'discount_amount':**"
   ]
  },
  {
   "cell_type": "markdown",
   "metadata": {},
   "source": [
    "This specific column is to calculate the discount amount by subtracting 'actual_price' and 'discount_price'"
   ]
  },
  {
   "cell_type": "code",
   "execution_count": 11,
   "metadata": {},
   "outputs": [],
   "source": [
    "#create new column using subtract operator\n",
    "df1['discount_amount'] = df1['actual_price'] - df1['discount_price']"
   ]
  },
  {
   "cell_type": "markdown",
   "metadata": {},
   "source": [
    "**Handling duplicated data within the dataframe:**"
   ]
  },
  {
   "cell_type": "code",
   "execution_count": 12,
   "metadata": {},
   "outputs": [
    {
     "data": {
      "text/plain": [
       "533713"
      ]
     },
     "execution_count": 12,
     "metadata": {},
     "output_type": "execute_result"
    }
   ],
   "source": [
    "#checking how many rows are duplicated within the dataframe\n",
    "df1.duplicated().sum()"
   ]
  },
  {
   "cell_type": "markdown",
   "metadata": {},
   "source": [
    "We observed 533,713 duplicate rows in the dataframe. It's essential to address these duplicates to ensure the analysis remains accurate and reliable."
   ]
  },
  {
   "cell_type": "code",
   "execution_count": 13,
   "metadata": {},
   "outputs": [],
   "source": [
    "#drop duplicate rows within the dataframe\n",
    "df_cleaned_v1 = df1.drop_duplicates()"
   ]
  },
  {
   "cell_type": "code",
   "execution_count": 14,
   "metadata": {},
   "outputs": [
    {
     "name": "stdout",
     "output_type": "stream",
     "text": [
      "<class 'pandas.core.frame.DataFrame'>\n",
      "Index: 533825 entries, 0 to 951774\n",
      "Data columns (total 10 columns):\n",
      " #   Column           Non-Null Count   Dtype  \n",
      "---  ------           --------------   -----  \n",
      " 0   name             533825 non-null  object \n",
      " 1   main_category    533825 non-null  object \n",
      " 2   sub_category     533825 non-null  object \n",
      " 3   image            533825 non-null  object \n",
      " 4   link             533825 non-null  object \n",
      " 5   ratings          533825 non-null  float64\n",
      " 6   no_of_ratings    533825 non-null  Int64  \n",
      " 7   discount_price   533825 non-null  float64\n",
      " 8   actual_price     533825 non-null  float64\n",
      " 9   discount_amount  533825 non-null  float64\n",
      "dtypes: Int64(1), float64(4), object(5)\n",
      "memory usage: 45.3+ MB\n"
     ]
    }
   ],
   "source": [
    "#further checking after remove duplicated data\n",
    "df_cleaned_v1.info()"
   ]
  },
  {
   "cell_type": "markdown",
   "metadata": {},
   "source": [
    "**Handling duplicate data: further checking:**\n",
    "\n",
    "Upon further inspection, I noticed some entries have identical names and values but differ in category. These records need to be addressed to ensure the analysis is valid."
   ]
  },
  {
   "cell_type": "code",
   "execution_count": 15,
   "metadata": {},
   "outputs": [],
   "source": [
    "#df_cleaned_v2 = df_cleaned_v1.drop_duplicates(subset='name', keep=\"first\")\n",
    "df_cleaned_v2 = df_cleaned_v1.groupby('name').first().reset_index()"
   ]
  },
  {
   "cell_type": "markdown",
   "metadata": {},
   "source": [
    "**Exporting cleaned dataset: data is ready for analysis:**"
   ]
  },
  {
   "cell_type": "code",
   "execution_count": 16,
   "metadata": {},
   "outputs": [],
   "source": [
    "#setting export path and csv file name\n",
    "export_path = (r\"C:\\Users\\user\\OneDrive\\RFA _Personal Files\\02. COURSE\\Purwadhika_Data Engineering\\Purwadhika_VS\\01_Personal_Projects\\01_ETL01\\data_cleaned\\data_products_cleaned.csv\")\n",
    "               \n",
    "df_cleaned_v2.to_csv(export_path, index=False)"
   ]
  }
 ],
 "metadata": {
  "kernelspec": {
   "display_name": "Python 3",
   "language": "python",
   "name": "python3"
  },
  "language_info": {
   "codemirror_mode": {
    "name": "ipython",
    "version": 3
   },
   "file_extension": ".py",
   "mimetype": "text/x-python",
   "name": "python",
   "nbconvert_exporter": "python",
   "pygments_lexer": "ipython3",
   "version": "3.11.9"
  }
 },
 "nbformat": 4,
 "nbformat_minor": 2
}
